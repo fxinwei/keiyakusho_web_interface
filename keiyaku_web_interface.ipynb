{
 "cells": [
  {
   "cell_type": "code",
   "execution_count": 61,
   "metadata": {},
   "outputs": [],
   "source": [
    "from ollama import  generate\n",
    "import gradio as gr\n",
    "import time\n",
    "import re\n",
    "import os"
   ]
  },
  {
   "cell_type": "code",
   "execution_count": 30,
   "metadata": {},
   "outputs": [],
   "source": [
    "def get_llm_response(input_text, task='revision'):\n",
    "    \"\"\"\n",
    "    Parameters:\n",
    "        model_name: str\n",
    "            Name of the model to be used for the task\n",
    "        input_text: str\n",
    "            Input text from whisper transcribed result\n",
    "        task: str\n",
    "            Task to be performed by the model. 'revision' means to correct the input text but do not change the content.\n",
    "            'response' means to generate a response to the input text.\n",
    "    Returns:\n",
    "        json format file for 'ie' task. \n",
    "        conversation text format file for 'ca' task.\n",
    "    \"\"\"    \n",
    "    revision_prompt = \"\"\"\n",
    "    あなたは法律文書の専門家です。以下の指示に従って文書を処理してください：\n",
    "\n",
    "    基本方針：\n",
    "    - 原文をできるだけ尊重する\n",
    "    - 明らかな誤りのみを修正する\n",
    "    - 法的に問題のある箇所のみを修正する\n",
    "    - 文体や表現の好みによる変更は避ける\n",
    "    - 修正理由や説明は省略する\n",
    "\n",
    "    修正対象：\n",
    "    - 法律用語の明らかな誤用\n",
    "    - 法令の引用の誤り\n",
    "    - 重大な文法的誤り\n",
    "    - 明らかな事実誤認\n",
    "    - 法的な論理の矛盾\n",
    "\n",
    "    出力形式：\n",
    "    [修正後の文書のみを出力]\n",
    "    \"\"\"\n",
    "    response_prompt = \"あなたは専門的な日本法律顧問です。質問されたことに対して専門的な法律の見地から日本語で答えてください。重複内容を出力しないでください\"\n",
    "\n",
    "    model_name = 'llama3.3_jp_keiyaku_1221_Q4KM'\n",
    "\n",
    "    generation_params = {\n",
    "        #\"do_sample\": True,\n",
    "        \"temperature\": 0.6,\n",
    "        \"top_p\": 0.9,\n",
    "        \"top_k\": 40,\n",
    "        \"num_predict\": 1024,\n",
    "        \"num_ctx\": 2048,\n",
    "        \"repeat_penalty\": 1.2,\n",
    "    }\n",
    "\n",
    "    if task == 'revision':\n",
    "\n",
    "        system_prompt = revision_prompt\n",
    "\n",
    "        res = generate(\n",
    "            model=model_name,\n",
    "            prompt=input_text,\n",
    "            system=system_prompt,\n",
    "            options=generation_params\n",
    "        )\n",
    "    elif task == 'response':\n",
    "\n",
    "        system_prompt = response_prompt\n",
    "\n",
    "        res = generate(\n",
    "            model=model_name,\n",
    "            prompt=input_text,\n",
    "            system=system_prompt,\n",
    "            options=generation_params\n",
    "        )\n",
    "    else:\n",
    "        print(\"Invalid task. Please choose either 'revision' or 'response'.\")\n",
    "\n",
    "    response = res['response']\n",
    "\n",
    "    current_dir = os.path.dirname(os.path.realpath(__file__))\n",
    "    data_path = current_dir + '/data'\n",
    "    if not os.path.exists(data_path):\n",
    "        os.makedirs(data_path)\n",
    "    date_today = time.strftime(\"%Y%m%d\")\n",
    "    output_file = data_path + '/record_' + date_today + '.txt'\n",
    "    with open(output_file, 'a', encoding='utf-8-sig') as f:\n",
    "        f.write(f\"Input text: {input_text}\\n\")\n",
    "        f.write(f\"Response: {response}\\n\")\n",
    "\n",
    "    for i in range(len(response)):\n",
    "        yield response[:i+1]\n",
    "        time.sleep(0.01)\n",
    "\n",
    "    # return res['response']"
   ]
  },
  {
   "cell_type": "code",
   "execution_count": 18,
   "metadata": {},
   "outputs": [
    {
     "name": "stdout",
     "output_type": "stream",
     "text": [
      "売主（以下「甲」という）と買主（以下「乙」という）とは、次の通り合意した。 第×条…（例1） 乙は甲に対し、目的物の代金を支払う。\n"
     ]
    }
   ],
   "source": [
    "res = get_llm_response(\"売主（以下「甲」という）と買主（以下「乙」という）とは、次の通り合意した。 第×条…（例1） 甲は乙に対し、目的物の代金を支払う。\", task='revision')\n",
    "print(res)"
   ]
  },
  {
   "cell_type": "code",
   "execution_count": 32,
   "metadata": {},
   "outputs": [],
   "source": [
    "with gr.Blocks(theme=gr.themes.Soft()) as demo:\n",
    "    # タイトル\n",
    "    gr.Markdown(\"# 契約書内容処理アプリ\")\n",
    "    gr.Markdown(\"このアプリでは、契約書内容の修正や質問への回答が可能です。\")\n",
    "    \n",
    "    # 入力テキストエリア\n",
    "    with gr.Row():\n",
    "        input_text = gr.Textbox(\n",
    "            label=\"契約書内容を入力してください\",\n",
    "            placeholder=\"ここに処理したいテキストを入力してください...\",\n",
    "            lines=10\n",
    "        )\n",
    "    \n",
    "    # タスク選択エリア\n",
    "    with gr.Row():\n",
    "        task_radio = gr.Radio(\n",
    "            choices=[(\"回答する\", \"response\"), (\"修正する\", \"revision\")],\n",
    "            label=\"タスクを選択してください\",\n",
    "            value=\"response\"\n",
    "        )\n",
    "    \n",
    "    # 送信ボタン\n",
    "    with gr.Row():\n",
    "        submit_btn = gr.Button(\"送信\", variant=\"primary\")\n",
    "    \n",
    "    # 出力エリア\n",
    "    with gr.Row():\n",
    "        output_text = gr.Textbox(\n",
    "            label=\"処理結果\",\n",
    "            lines=20\n",
    "        )\n",
    "    \n",
    "    # クリックイベントの設定\n",
    "    submit_btn.click(\n",
    "        fn=get_llm_response,\n",
    "        inputs=[input_text, task_radio],\n",
    "        outputs=output_text,\n",
    "        api_name=\"stream_output\"\n",
    "    )\n"
   ]
  },
  {
   "cell_type": "code",
   "execution_count": 35,
   "metadata": {},
   "outputs": [
    {
     "name": "stdout",
     "output_type": "stream",
     "text": [
      "* Running on local URL:  http://127.0.0.1:7860\n",
      "\n",
      "To create a public link, set `share=True` in `launch()`.\n"
     ]
    },
    {
     "data": {
      "text/html": [
       "<div><iframe src=\"http://127.0.0.1:7860/\" width=\"100%\" height=\"500\" allow=\"autoplay; camera; microphone; clipboard-read; clipboard-write;\" frameborder=\"0\" allowfullscreen></iframe></div>"
      ],
      "text/plain": [
       "<IPython.core.display.HTML object>"
      ]
     },
     "metadata": {},
     "output_type": "display_data"
    },
    {
     "data": {
      "text/plain": []
     },
     "execution_count": 35,
     "metadata": {},
     "output_type": "execute_result"
    }
   ],
   "source": [
    "demo.queue()\n",
    "demo.launch()"
   ]
  },
  {
   "cell_type": "code",
   "execution_count": 34,
   "metadata": {},
   "outputs": [
    {
     "name": "stdout",
     "output_type": "stream",
     "text": [
      "Closing server running on port: 7860\n"
     ]
    }
   ],
   "source": [
    "demo.close()"
   ]
  },
  {
   "cell_type": "code",
   "execution_count": 55,
   "metadata": {},
   "outputs": [],
   "source": [
    "def detect_and_process_numbered_list(text):\n",
    "    \"\"\"\n",
    "    检测和处理带编号的列表部分\n",
    "    保留其他文本内容\n",
    "    \"\"\"\n",
    "    # 分行处理\n",
    "    lines = text.split('\\n')\n",
    "    # 存储处理后的行\n",
    "    processed_lines = []\n",
    "    # 存储已见过的内容\n",
    "    seen_contents = {}\n",
    "    # 当前编号计数\n",
    "    current_number = 1\n",
    "    \n",
    "    # 用于检测编号行的正则表达式\n",
    "    # 匹配格式如: \"1.\", \"1。\", \"1、\", \"(1)\", \"１．\"等\n",
    "    number_pattern = r'^[\\(（]?\\d+[\\)）\\.\\。、．]'\n",
    "    \n",
    "    in_numbered_list = False  # 标记是否在处理编号列表\n",
    "    for line in lines:\n",
    "        stripped_line = line.strip()\n",
    "        if not stripped_line:  # 保留空行\n",
    "            processed_lines.append(line)\n",
    "            continue\n",
    "            \n",
    "        # 检查是否是编号行\n",
    "        if re.match(number_pattern, stripped_line):\n",
    "            in_numbered_list = True\n",
    "            # 提取内容部分（去除编号）\n",
    "            content = re.sub(number_pattern, '', stripped_line).strip()\n",
    "            \n",
    "            # 如果内容不重复，添加到结果中\n",
    "            if content not in seen_contents:\n",
    "                seen_contents[content] = True\n",
    "                # 使用当前编号重新格式化行\n",
    "                processed_lines.append(f\"{current_number}. {content}\")\n",
    "                current_number += 1\n",
    "        else:\n",
    "            # 如果已经在处理编号列表，且遇到非编号行，说明列表结束\n",
    "            if in_numbered_list:\n",
    "                in_numbered_list = False\n",
    "            # 非编号行直接添加\n",
    "            processed_lines.append(line)\n",
    "    \n",
    "    return '\\n'.join(processed_lines)\n"
   ]
  },
  {
   "cell_type": "code",
   "execution_count": 59,
   "metadata": {},
   "outputs": [],
   "source": [
    "test_text =\"\"\"\n",
    "lsdjfldjlskfljksdjflk21234214123\n",
    "jsdfjkl3912321\n",
    "1.売主及び買主に関する記述\n",
    "売主及び買主に関する記述\n",
    "2.本契約の目的及び取引の対象となる株式\n",
    "3.売主の表明及び保証\n",
    "4.買主の表明及び保証\n",
    "5.売主の義務及び責任\n",
    "6.買主の義務及び責任\n",
    "7. 買主の義務及び責任\n",
    "7.クロージングに関する事項\n",
    "8.契約締結後における売主の義務\n",
    "9.本契約に定める違反についての損害賠償責任\n",
    "10.本契約に定める違反についての損害賠償責任\n",
    "11.本契約に定める違反についての損害賠償責任\n",
    "12.本契約に定める違反についての損害賠償責任\n",
    "jslkdfjl29jlksdlkfnc,mzcdsfds2.f\n",
    "\"\"\""
   ]
  },
  {
   "cell_type": "code",
   "execution_count": 60,
   "metadata": {},
   "outputs": [
    {
     "name": "stdout",
     "output_type": "stream",
     "text": [
      "\n",
      "lsdjfldjlskfljksdjflk21234214123\n",
      "jsdfjkl3912321\n",
      "1. 売主及び買主に関する記述\n",
      "売主及び買主に関する記述\n",
      "2. 本契約の目的及び取引の対象となる株式\n",
      "3. 売主の表明及び保証\n",
      "4. 買主の表明及び保証\n",
      "5. 売主の義務及び責任\n",
      "6. 買主の義務及び責任\n",
      "7. クロージングに関する事項\n",
      "8. 契約締結後における売主の義務\n",
      "9. 本契約に定める違反についての損害賠償責任\n",
      "jslkdfjl29jlksdlkfnc,mzcdsfds2.f\n",
      "\n"
     ]
    }
   ],
   "source": [
    "print(detect_and_process_numbered_list(test_text))"
   ]
  }
 ],
 "metadata": {
  "kernelspec": {
   "display_name": "demo",
   "language": "python",
   "name": "python3"
  },
  "language_info": {
   "codemirror_mode": {
    "name": "ipython",
    "version": 3
   },
   "file_extension": ".py",
   "mimetype": "text/x-python",
   "name": "python",
   "nbconvert_exporter": "python",
   "pygments_lexer": "ipython3",
   "version": "3.10.15"
  }
 },
 "nbformat": 4,
 "nbformat_minor": 2
}
